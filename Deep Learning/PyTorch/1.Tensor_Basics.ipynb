{
 "cells": [
  {
   "cell_type": "code",
   "execution_count": 1,
   "metadata": {
    "colab": {
     "base_uri": "https://localhost:8080/"
    },
    "id": "SltRdxAJRDoE",
    "outputId": "80b3d730-a99c-41eb-ce43-597b9c85e350"
   },
   "outputs": [
    {
     "name": "stdout",
     "output_type": "stream",
     "text": [
      "tensor([-55.9499])\n"
     ]
    }
   ],
   "source": [
    "import torch\n",
    "\n",
    "x = torch.empty(1)\n",
    "print(x)"
   ]
  },
  {
   "cell_type": "code",
   "execution_count": 2,
   "metadata": {
    "colab": {
     "base_uri": "https://localhost:8080/"
    },
    "id": "N2M8PHzyRXsF",
    "outputId": "7ed71303-6e5a-4386-e22c-69ae542e82f2"
   },
   "outputs": [
    {
     "name": "stdout",
     "output_type": "stream",
     "text": [
      "tensor([2.2664e-02, 3.1892e-41, 2.3046e+01])\n"
     ]
    }
   ],
   "source": [
    "x = torch.empty(3)\n",
    "print(x)"
   ]
  },
  {
   "cell_type": "code",
   "execution_count": 3,
   "metadata": {
    "colab": {
     "base_uri": "https://localhost:8080/"
    },
    "id": "qqVqghGkRbP6",
    "outputId": "cbab81f7-22b6-4249-d742-1a4c85492b3d"
   },
   "outputs": [
    {
     "name": "stdout",
     "output_type": "stream",
     "text": [
      "tensor([[0., 0., 0.],\n",
      "        [0., 0., 0.]])\n"
     ]
    }
   ],
   "source": [
    "x = torch.empty(2,3)\n",
    "print(x)"
   ]
  },
  {
   "cell_type": "code",
   "execution_count": 4,
   "metadata": {
    "colab": {
     "base_uri": "https://localhost:8080/"
    },
    "id": "kigQ7V5iRg5i",
    "outputId": "1b00c440-27b2-419c-f8e5-4d4c56bf7d69"
   },
   "outputs": [
    {
     "name": "stdout",
     "output_type": "stream",
     "text": [
      "tensor([[[ 2.6239e-32,  4.3384e-41,  2.6239e-32,  4.3384e-41],\n",
      "         [ 4.4842e-44,  0.0000e+00,  1.5695e-43,  0.0000e+00],\n",
      "         [-3.0050e-30,  7.0065e-45,  0.0000e+00,  0.0000e+00]],\n",
      "\n",
      "        [[ 1.4013e-45,  0.0000e+00,  2.3048e+01,  3.1892e-41],\n",
      "         [ 1.8881e-36,  4.3384e-41,  2.3048e+01,  3.1892e-41],\n",
      "         [ 4.2607e-08,  3.3088e-09,  8.4078e-45,  0.0000e+00]]])\n"
     ]
    }
   ],
   "source": [
    "x = torch.empty(2,3,4)\n",
    "print(x)"
   ]
  },
  {
   "cell_type": "code",
   "execution_count": 5,
   "metadata": {
    "colab": {
     "base_uri": "https://localhost:8080/"
    },
    "id": "jWwzt6f8Rj5u",
    "outputId": "344878f3-6f9f-486f-edaf-5d5d9bf83952"
   },
   "outputs": [
    {
     "name": "stdout",
     "output_type": "stream",
     "text": [
      "torch.int32\n",
      "torch.float64\n"
     ]
    }
   ],
   "source": [
    "x = torch.ones(2,2, dtype=torch.int)\n",
    "print(x.dtype)\n",
    "\n",
    "x = torch.ones(2,2, dtype=torch.double)\n",
    "print(x.dtype)"
   ]
  },
  {
   "cell_type": "code",
   "execution_count": 6,
   "metadata": {
    "colab": {
     "base_uri": "https://localhost:8080/"
    },
    "id": "NudgAeCXRvL0",
    "outputId": "e3ae7599-8b91-41f2-fdfc-a7edbfac0da3"
   },
   "outputs": [
    {
     "data": {
      "text/plain": [
       "torch.Size([2, 2])"
      ]
     },
     "execution_count": 6,
     "metadata": {},
     "output_type": "execute_result"
    }
   ],
   "source": [
    "x.size()"
   ]
  },
  {
   "cell_type": "code",
   "execution_count": 7,
   "metadata": {
    "colab": {
     "base_uri": "https://localhost:8080/"
    },
    "id": "Q0kEaKE-R6Wd",
    "outputId": "21160797-bcc5-4a68-b2e5-97ca0fe5080b"
   },
   "outputs": [
    {
     "name": "stdout",
     "output_type": "stream",
     "text": [
      "tensor([2.5000, 0.1000])\n"
     ]
    }
   ],
   "source": [
    "x = torch.tensor([2.5,0.1])\n",
    "print(x)"
   ]
  },
  {
   "cell_type": "code",
   "execution_count": 8,
   "metadata": {
    "colab": {
     "base_uri": "https://localhost:8080/"
    },
    "id": "mIW1pWkgSA09",
    "outputId": "d978e01a-a635-467b-fb73-86e09da96e3d"
   },
   "outputs": [
    {
     "name": "stdout",
     "output_type": "stream",
     "text": [
      "tensor([[0.4499, 0.3170],\n",
      "        [0.6968, 0.7237]]) tensor([[0.0560, 0.9674],\n",
      "        [0.4812, 0.1086]])\n",
      "tensor([[0.5059, 1.2845],\n",
      "        [1.1780, 0.8323]])\n"
     ]
    }
   ],
   "source": [
    "x = torch.rand(2,2)\n",
    "y = torch.rand(2,2)\n",
    "\n",
    "print(x,y)\n",
    "\n",
    "z = x+y\n",
    "z = torch.add(x,y)\n",
    "\n",
    "print(z)"
   ]
  },
  {
   "cell_type": "code",
   "execution_count": 9,
   "metadata": {
    "colab": {
     "base_uri": "https://localhost:8080/"
    },
    "id": "ovv-CkdJSTjz",
    "outputId": "2bbba0e4-195a-4ac1-cc2c-bb5334b6542a"
   },
   "outputs": [
    {
     "name": "stdout",
     "output_type": "stream",
     "text": [
      "tensor([[0.5059, 1.2845],\n",
      "        [1.1780, 0.8323]])\n"
     ]
    }
   ],
   "source": [
    "# inplace addn\n",
    "\n",
    "y.add_(x)\n",
    "print(y)"
   ]
  },
  {
   "cell_type": "code",
   "execution_count": 10,
   "metadata": {
    "id": "R74MRUN3Se30"
   },
   "outputs": [],
   "source": [
    "# other operations\n",
    "\n",
    "# torch.sub()\n",
    "# torch.mul()\n",
    "# torch.div()\n",
    "\n",
    "# for inplace use y.sub_(x)"
   ]
  },
  {
   "cell_type": "code",
   "execution_count": 11,
   "metadata": {
    "colab": {
     "base_uri": "https://localhost:8080/"
    },
    "id": "jd7uhPRQS2sG",
    "outputId": "2c4b31d0-7f80-40cb-9164-017598b75d42"
   },
   "outputs": [
    {
     "name": "stdout",
     "output_type": "stream",
     "text": [
      "tensor([[0.0491, 0.9464, 0.0078, 0.3403],\n",
      "        [0.6345, 0.3419, 0.7150, 0.9393],\n",
      "        [0.6586, 0.1979, 0.9068, 0.3450],\n",
      "        [0.0583, 0.9259, 0.2172, 0.7981]])\n",
      "tensor([0.0491, 0.9464, 0.0078, 0.3403, 0.6345, 0.3419, 0.7150, 0.9393, 0.6586,\n",
      "        0.1979, 0.9068, 0.3450, 0.0583, 0.9259, 0.2172, 0.7981])\n",
      "torch.Size([2, 8])\n"
     ]
    }
   ],
   "source": [
    "x = torch.rand(4,4)\n",
    "print(x)\n",
    "# convert into 1d vector\n",
    "y=x.view(16)\n",
    "print(y)\n",
    "\n",
    "y = x.view(-1,8)\n",
    "print(y.size())"
   ]
  },
  {
   "cell_type": "code",
   "execution_count": 17,
   "metadata": {
    "id": "BCvayo3RTJ0-"
   },
   "outputs": [
    {
     "name": "stdout",
     "output_type": "stream",
     "text": [
      "[1. 1. 1. 1. 1.]\n",
      "tensor([1., 1., 1., 1., 1.], dtype=torch.float64)\n"
     ]
    }
   ],
   "source": [
    "import torch\n",
    "import numpy as np\n",
    "\n",
    "a = np.ones(5)\n",
    "print(a)\n",
    "\n",
    "b = torch.from_numpy(a)\n",
    "print(b)"
   ]
  },
  {
   "cell_type": "code",
   "execution_count": 18,
   "metadata": {},
   "outputs": [
    {
     "name": "stdout",
     "output_type": "stream",
     "text": [
      "[2. 2. 2. 2. 2.]\n",
      "tensor([2., 2., 2., 2., 2.], dtype=torch.float64)\n"
     ]
    }
   ],
   "source": [
    "a += 1\n",
    "print(a)\n",
    "print(b)\n",
    "\n",
    "#only if tensor is in cpu then they share same memory location so updating obe will also update the other"
   ]
  },
  {
   "cell_type": "code",
   "execution_count": 19,
   "metadata": {},
   "outputs": [],
   "source": [
    "# cuda toolkit\n",
    "\n",
    "device = torch.device(\"cuda\" if torch.cuda.is_available() else \"cpu\")\n"
   ]
  },
  {
   "cell_type": "code",
   "execution_count": 20,
   "metadata": {},
   "outputs": [
    {
     "data": {
      "text/plain": [
       "device(type='cuda')"
      ]
     },
     "execution_count": 20,
     "metadata": {},
     "output_type": "execute_result"
    }
   ],
   "source": [
    "device"
   ]
  },
  {
   "cell_type": "code",
   "execution_count": null,
   "metadata": {},
   "outputs": [],
   "source": []
  }
 ],
 "metadata": {
  "colab": {
   "provenance": []
  },
  "kernelspec": {
   "display_name": "Python 3 (ipykernel)",
   "language": "python",
   "name": "python3"
  },
  "language_info": {
   "codemirror_mode": {
    "name": "ipython",
    "version": 3
   },
   "file_extension": ".py",
   "mimetype": "text/x-python",
   "name": "python",
   "nbconvert_exporter": "python",
   "pygments_lexer": "ipython3",
   "version": "3.11.8"
  }
 },
 "nbformat": 4,
 "nbformat_minor": 4
}
